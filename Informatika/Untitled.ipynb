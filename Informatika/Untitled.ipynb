{
 "cells": [
  {
   "cell_type": "code",
   "execution_count": 1,
   "id": "63b8a2ee",
   "metadata": {},
   "outputs": [
    {
     "name": "stderr",
     "output_type": "stream",
     "text": [
      "'pip--version' is not recognized as an internal or external command,\n",
      "operable program or batch file.\n"
     ]
    }
   ],
   "source": [
    "!pip--version"
   ]
  },
  {
   "cell_type": "code",
   "execution_count": 2,
   "id": "f36600ee",
   "metadata": {},
   "outputs": [
    {
     "name": "stdout",
     "output_type": "stream",
     "text": [
      "Defaulting to user installation because normal site-packages is not writeable\n"
     ]
    },
    {
     "name": "stderr",
     "output_type": "stream",
     "text": [
      "ERROR: Could not find a version that satisfies the requirement pygeme (from versions: none)\n",
      "ERROR: No matching distribution found for pygeme\n"
     ]
    }
   ],
   "source": [
    "!pip install pygeme"
   ]
  },
  {
   "cell_type": "code",
   "execution_count": null,
   "id": "b2cb57ad",
   "metadata": {},
   "outputs": [],
   "source": [
    "import pygame as pg\n",
    "pg.init()\n",
    "prozor = pg.display.set_mode((400, 400))\n",
    "pg.display.set_caption(\"Ovčar i Kablar\")\n",
    "prozor.fill(pg.Color(\"skyblue\")) #NEBO\n",
    "#SUNCE\n",
    "pg.draw.circle(prozor, pg.Color(\"yellow\"), (300, 80), 70)\n",
    "#OBLAK\n",
    "pg.draw.circle(prozor, pg.Color(\"white\"), (250, 150), 60)\n",
    "pg.draw.circle(prozor, pg.Color(\"white\"), (195, 150), 35)\n",
    "pg.draw.circle(prozor, pg.Color(\"white\"), (305, 150), 35)\n",
    "#OVČAR\n",
    "temena1 = ((0,400), (125,200), (275,400))\n",
    "pg.draw.polygon(prozor, pg.Color(\"darkgreen\"), temena1)\n",
    "#KABLAR\n",
    "temena2 = ((150,400), (280,270), (400,400))\n",
    "pg.draw.polygon(prozor, pg.Color(\"darkgreen\"), temena2)\n",
    "#REPETITOR\n",
    "pg.draw.line(prozor, pg.Color(\"black\"), (125, 202),(125, 160), 2)\n",
    "pg.display.update()\n",
    "while pg.event.wait().type != pg.QUIT:\n",
    "    pass\n",
    "pg.quit()\n",
    "\n",
    "\n"
   ]
  }
 ],
 "metadata": {
  "kernelspec": {
   "display_name": "Python 3 (ipykernel)",
   "language": "python",
   "name": "python3"
  },
  "language_info": {
   "codemirror_mode": {
    "name": "ipython",
    "version": 3
   },
   "file_extension": ".py",
   "mimetype": "text/x-python",
   "name": "python",
   "nbconvert_exporter": "python",
   "pygments_lexer": "ipython3",
   "version": "3.11.5"
  }
 },
 "nbformat": 4,
 "nbformat_minor": 5
}
